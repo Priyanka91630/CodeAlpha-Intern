{
  "nbformat": 4,
  "nbformat_minor": 0,
  "metadata": {
    "colab": {
      "provenance": [],
      "toc_visible": true
    },
    "kernelspec": {
      "name": "python3",
      "display_name": "Python 3"
    },
    "language_info": {
      "name": "python"
    }
  },
  "cells": [
    {
      "cell_type": "code",
      "execution_count": 1,
      "metadata": {
        "colab": {
          "base_uri": "https://localhost:8080/"
        },
        "id": "Ig5GCJR9rQ3b",
        "outputId": "cb668023-f02a-4f11-c3a3-9ac18af364b5"
      },
      "outputs": [
        {
          "output_type": "stream",
          "name": "stdout",
          "text": [
            "Welcome! Ask me something or say 'bye' to end.\n",
            "You: hello\n",
            "Chatbot: Hi there!\n",
            "You: bye\n",
            "Goodbye!\n"
          ]
        }
      ],
      "source": [
        "import random\n",
        "\n",
        "# Define a dictionary containing some responses\n",
        "responses = {\n",
        "    \"hello\": \"Hi there!\",\n",
        "    \"how are you?\": \"I'm good, thank you.\",\n",
        "    \"what's your name?\": \"I'm a chatbot.\",\n",
        "    \"bye\": \"Goodbye!\"\n",
        "}\n",
        "\n",
        "# Function to respond to user input\n",
        "def respond(input_text):\n",
        "    input_text = input_text.lower()  # Convert input to lowercase\n",
        "    for key in responses:\n",
        "        if key in input_text:\n",
        "            return responses[key]\n",
        "    return \"I'm sorry, I don't understand that.\"\n",
        "\n",
        "# Main loop to take user input and respond\n",
        "print(\"Welcome! Ask me something or say 'bye' to end.\")\n",
        "while True:\n",
        "    user_input = input(\"You: \")\n",
        "    if user_input.lower() == 'bye':\n",
        "        print(responses[\"bye\"])\n",
        "        break\n",
        "    else:\n",
        "        response = respond(user_input)\n",
        "        print(\"Chatbot:\", response)\n"
      ]
    }
  ]
}