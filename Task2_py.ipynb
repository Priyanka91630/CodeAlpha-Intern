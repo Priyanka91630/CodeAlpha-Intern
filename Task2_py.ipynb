{
  "nbformat": 4,
  "nbformat_minor": 0,
  "metadata": {
    "colab": {
      "provenance": [],
      "toc_visible": true
    },
    "kernelspec": {
      "name": "python3",
      "display_name": "Python 3"
    },
    "language_info": {
      "name": "python"
    }
  },
  "cells": [
    {
      "cell_type": "code",
      "execution_count": null,
      "metadata": {
        "colab": {
          "base_uri": "https://localhost:8080/"
        },
        "id": "cYi38YbUoOMK",
        "outputId": "edf86c01-ba16-48af-c13b-8f967409ac29"
      },
      "outputs": [
        {
          "output_type": "stream",
          "name": "stdout",
          "text": [
            "Welcome to Your Stock Portfolio Tracker!\n",
            "--------------------------------------\n",
            "\n",
            "Menu:\n",
            "1. View current portfolio value\n",
            "2. Add a stock\n",
            "3. Remove a stock\n",
            "4. Exit\n",
            "Enter your choice (1-4): 2\n",
            "Enter the ticker symbol of the stock: portfolio\n",
            "Enter the quantity of shares: 3\n",
            "Enter the purchase price per share: 10\n",
            "\n",
            "portfolio added to portfolio.\n",
            "\n",
            "Menu:\n",
            "1. View current portfolio value\n",
            "2. Add a stock\n",
            "3. Remove a stock\n",
            "4. Exit\n"
          ]
        }
      ],
      "source": [
        "import yfinance as yf\n",
        "\n",
        "# Global variable for the portfolio\n",
        "portfolio = {\n",
        "    'AAPL': {'quantity': 10, 'purchase_price': 150.0},\n",
        "    'MSFT': {'quantity': 5, 'purchase_price': 250.0},\n",
        "    # Add more stocks as needed\n",
        "}\n",
        "\n",
        "def get_stock_price(ticker):\n",
        "    stock = yf.Ticker(ticker)\n",
        "    data = stock.history(period=\"1d\")  # Fetch today's data\n",
        "    return data['Close'][0]\n",
        "\n",
        "def portfolio_value():\n",
        "    total_value = 0.0\n",
        "    for ticker, data in portfolio.items():\n",
        "        current_price = get_stock_price(ticker)\n",
        "        quantity = data['quantity']\n",
        "        total_value += current_price * quantity\n",
        "    return total_value\n",
        "\n",
        "def main():\n",
        "    print(\"Welcome to Your Stock Portfolio Tracker!\")\n",
        "    print(\"--------------------------------------\")\n",
        "\n",
        "    while True:\n",
        "        print(\"\\nMenu:\")\n",
        "        print(\"1. View current portfolio value\")\n",
        "        print(\"2. Add a stock\")\n",
        "        print(\"3. Remove a stock\")\n",
        "        print(\"4. Exit\")\n",
        "\n",
        "        choice = input(\"Enter your choice (1-4): \")\n",
        "\n",
        "        if choice == '1':\n",
        "            print(f\"\\nTotal portfolio value: ${portfolio_value():.2f}\")\n",
        "        elif choice == '2':\n",
        "            ticker = input(\"Enter the ticker symbol of the stock: \")\n",
        "            quantity = int(input(\"Enter the quantity of shares: \"))\n",
        "            purchase_price = float(input(\"Enter the purchase price per share: \"))\n",
        "            portfolio[ticker] = {'quantity': quantity, 'purchase_price': purchase_price}\n",
        "            print(f\"\\n{ticker} added to portfolio.\")\n",
        "        elif choice == '3':\n",
        "            ticker = input(\"Enter the ticker symbol of the stock to remove: \")\n",
        "            if ticker in portfolio:\n",
        "                del portfolio[ticker]\n",
        "                print(f\"\\n{ticker} removed from portfolio.\")\n",
        "            else:\n",
        "                print(\"\\nStock not found in portfolio.\")\n",
        "        elif choice == '4':\n",
        "            print(\"Exiting...\")\n",
        "            break\n",
        "        else:\n",
        "            print(\"Invalid choice. Please enter a number from 1 to 4.\")\n",
        "\n",
        "if __name__ == \"__main__\":\n",
        "    main()\n"
      ]
    }
  ]
}