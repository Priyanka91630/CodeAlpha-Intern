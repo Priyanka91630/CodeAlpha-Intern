{
  "nbformat": 4,
  "nbformat_minor": 0,
  "metadata": {
    "colab": {
      "provenance": [],
      "toc_visible": true
    },
    "kernelspec": {
      "name": "python3",
      "display_name": "Python 3"
    },
    "language_info": {
      "name": "python"
    }
  },
  "cells": [
    {
      "cell_type": "code",
      "execution_count": 1,
      "metadata": {
        "colab": {
          "base_uri": "https://localhost:8080/"
        },
        "id": "YH9r6UXWkqkt",
        "outputId": "5be0de36-f5ac-4f44-b8c4-5335a8a298b3"
      },
      "outputs": [
        {
          "output_type": "stream",
          "name": "stdout",
          "text": [
            "Welcome to Hangman!\n",
            "Word to guess: _____\n",
            "Tries left: 6\n",
            "Guess a letter or the whole word: 9\n",
            "Wrong guess: \"9\" is not in the word.\n",
            "\n",
            "Word to guess: _____\n",
            "Tries left: 5\n",
            "Guess a letter or the whole word: gun\n",
            "Wrong guess: \"gun\" is not the word.\n",
            "\n",
            "Word to guess: _____\n",
            "Tries left: 4\n",
            "Guess a letter or the whole word: apple\n",
            "Congratulations! You guessed the word \"apple\" correctly!\n"
          ]
        }
      ],
      "source": [
        "import random\n",
        "\n",
        "def choose_word():\n",
        "    words = ['apple', 'banana', 'cherry', 'date', 'elderberry', 'fig', 'grape']\n",
        "    return random.choice(words)\n",
        "\n",
        "def hangman():\n",
        "    word = choose_word()\n",
        "    guessed_letters = []\n",
        "    tries = 6  # You can adjust the number of tries allowed\n",
        "\n",
        "    while tries > 0:\n",
        "        guessed_word = ''.join(letter if letter in guessed_letters else '_' for letter in word)\n",
        "\n",
        "        print(f'Word to guess: {guessed_word}')\n",
        "        print(f'Tries left: {tries}')\n",
        "\n",
        "        guess = input('Guess a letter or the whole word: ').lower()\n",
        "\n",
        "        if len(guess) == 1:  # Guessing a letter\n",
        "            if guess in guessed_letters:\n",
        "                print(f'You already guessed \"{guess}\". Try again.')\n",
        "            elif guess in word:\n",
        "                guessed_letters.append(guess)\n",
        "                print(f'Good guess: \"{guess}\" is in the word!')\n",
        "            else:\n",
        "                print(f'Wrong guess: \"{guess}\" is not in the word.')\n",
        "                tries -= 1\n",
        "        else:  # Guessing the whole word\n",
        "            if guess == word:\n",
        "                print(f'Congratulations! You guessed the word \"{word}\" correctly!')\n",
        "                return\n",
        "            else:\n",
        "                print(f'Wrong guess: \"{guess}\" is not the word.')\n",
        "                tries -= 1\n",
        "\n",
        "        print()  # Just for spacing\n",
        "\n",
        "    print(f'Sorry, you ran out of tries. The word was \"{word}\".')\n",
        "\n",
        "if __name__ == '__main__':\n",
        "    print('Welcome to Hangman!')\n",
        "    hangman()\n"
      ]
    }
  ]
}